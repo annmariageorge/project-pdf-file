{
  "nbformat": 4,
  "nbformat_minor": 0,
  "metadata": {
    "colab": {
      "provenance": [],
      "toc_visible": true,
      "authorship_tag": "ABX9TyMpr6J4laZspJDuw2rQsDi6",
      "include_colab_link": true
    },
    "kernelspec": {
      "name": "python3",
      "display_name": "Python 3"
    },
    "language_info": {
      "name": "python"
    }
  },
  "cells": [
    {
      "cell_type": "markdown",
      "metadata": {
        "id": "view-in-github",
        "colab_type": "text"
      },
      "source": [
        "<a href=\"https://colab.research.google.com/github/annmariageorge/project-pdf-file/blob/main/Myprojects.ipynb\" target=\"_parent\"><img src=\"https://colab.research.google.com/assets/colab-badge.svg\" alt=\"Open In Colab\"/></a>"
      ]
    },
    {
      "cell_type": "code",
      "execution_count": 3,
      "metadata": {
        "colab": {
          "base_uri": "https://localhost:8080/"
        },
        "id": "a6NTaMsQn2pL",
        "outputId": "31b73399-ba80-492f-82a0-f691e504e60d"
      },
      "outputs": [
        {
          "output_type": "stream",
          "name": "stdout",
          "text": [
            "\n",
            "1. Add Task\n",
            "2. View Tasks\n",
            "3. Delete Task\n",
            "4. Exit\n",
            "Choose an option: 4\n",
            "Exiting the program.\n"
          ]
        }
      ],
      "source": [
        "\n",
        "\n",
        "class TodoList:\n",
        "    def __init__(self):\n",
        "        self.tasks = []\n",
        "\n",
        "    def add_task(self, task):\n",
        "        self.tasks.append(task)\n",
        "        print(f\"Task '{task}' added.\")\n",
        "\n",
        "    def view_tasks(self):\n",
        "        if not self.tasks:\n",
        "            print(\"No tasks in your todo list.\")\n",
        "        else:\n",
        "            print(\"Your Todo List:\")\n",
        "            for idx, task in enumerate(self.tasks, start=1):\n",
        "                print(f\"{idx}. {task}\")\n",
        "\n",
        "    def delete_task(self, task_number):\n",
        "        try:\n",
        "            task = self.tasks.pop(task_number - 1)\n",
        "            print(f\"Task '{task}' deleted.\")\n",
        "        except IndexError:\n",
        "            print(\"Invalid task number.\")\n",
        "\n",
        "todo_list = TodoList()\n",
        "\n",
        "def main():\n",
        "    while True:\n",
        "        print(\"\\n1. Add Task\")\n",
        "        print(\"2. View Tasks\")\n",
        "        print(\"3. Delete Task\")\n",
        "        print(\"4. Exit\")\n",
        "\n",
        "        choice = input(\"Choose an option: \")\n",
        "\n",
        "        if choice == '1':\n",
        "            task = input(\"Enter a task: \")\n",
        "            todo_list.add_task(task)\n",
        "        elif choice == '2':\n",
        "            todo_list.view_tasks()\n",
        "        elif choice == '3':\n",
        "            todo_list.view_tasks()\n",
        "            task_number = int(input(\"Enter the task number to delete: \"))\n",
        "            todo_list.delete_task(task_number)\n",
        "        elif choice == '4':\n",
        "            print(\"Exiting the program.\")\n",
        "            break\n",
        "        else:\n",
        "            print(\"Invalid choice. Please try again.\")\n",
        "\n",
        "main()\n"
      ]
    },
    {
      "cell_type": "code",
      "source": [
        "!pip install requests"
      ],
      "metadata": {
        "id": "-irDrsgzoYJC",
        "colab": {
          "base_uri": "https://localhost:8080/"
        },
        "outputId": "623a93ff-603f-42de-f0dd-333552c9e2e6"
      },
      "execution_count": 2,
      "outputs": [
        {
          "output_type": "stream",
          "name": "stdout",
          "text": [
            "Requirement already satisfied: requests in /usr/local/lib/python3.10/dist-packages (2.32.3)\n",
            "Requirement already satisfied: charset-normalizer<4,>=2 in /usr/local/lib/python3.10/dist-packages (from requests) (3.4.0)\n",
            "Requirement already satisfied: idna<4,>=2.5 in /usr/local/lib/python3.10/dist-packages (from requests) (3.10)\n",
            "Requirement already satisfied: urllib3<3,>=1.21.1 in /usr/local/lib/python3.10/dist-packages (from requests) (2.2.3)\n",
            "Requirement already satisfied: certifi>=2017.4.17 in /usr/local/lib/python3.10/dist-packages (from requests) (2024.8.30)\n"
          ]
        }
      ]
    },
    {
      "cell_type": "code",
      "source": [
        "import requests\n",
        "\n",
        "def get_weather(api_key, city):\n",
        "    base_url = \"http://api.openweathermap.org/data/2.5/weather\"\n",
        "    params = {\n",
        "        'q': city,\n",
        "        'appid': api_key,\n",
        "        'units': 'metric'\n",
        "    }\n",
        "    response = requests.get(base_url, params=params)\n",
        "\n",
        "    if response.status_code == 200:\n",
        "        data = response.json()\n",
        "        weather_description = data['weather'][0]['description']\n",
        "        temperature = data['main']['temp']\n",
        "        humidity = data['main']['humidity']\n",
        "        wind_speed = data['wind']['speed']\n",
        "\n",
        "        print(f\"Weather in {city.capitalize()}:\")\n",
        "        print(f\"Description: {weather_description}\")\n",
        "        print(f\"Temperature: {temperature}°C\")\n",
        "        print(f\"Humidity: {humidity}%\")\n",
        "        print(f\"Wind Speed: {wind_speed} m/s\")\n",
        "    else:\n",
        "        print(f\"City {city} not found.\")\n",
        "\n",
        "def main():\n",
        "    api_key = \"9eacea43937663bd0996b6068a095888\"\n",
        "    city = input(\"Enter the name of a city: \")\n",
        "    get_weather(api_key, city)\n",
        "\n",
        "main()\n"
      ],
      "metadata": {
        "colab": {
          "base_uri": "https://localhost:8080/"
        },
        "id": "4umUGqDWq-3O",
        "outputId": "0114feec-764f-4d8b-d0fa-667c57c5398a"
      },
      "execution_count": 6,
      "outputs": [
        {
          "output_type": "stream",
          "name": "stdout",
          "text": [
            "Enter the name of a city: tokyo\n",
            "City tokyo not found.\n"
          ]
        }
      ]
    },
    {
      "cell_type": "code",
      "source": [
        "def main():\n",
        "    api_key = \"9eacea43937663bd0996b6068a095888\"\n",
        "    city = input(\"Enter the name of a city: \")\n",
        "    get_weather(api_key, city)\n"
      ],
      "metadata": {
        "id": "9bJ7MtSGwzn3"
      },
      "execution_count": 7,
      "outputs": []
    }
  ]
}